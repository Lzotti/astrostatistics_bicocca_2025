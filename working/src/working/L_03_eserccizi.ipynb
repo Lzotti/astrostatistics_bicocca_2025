{
 "cells": [
  {
   "cell_type": "markdown",
   "id": "3ff8cd5d",
   "metadata": {},
   "source": [
    "sono due esercizi ma per ora balzo"
   ]
  }
 ],
 "metadata": {
  "kernelspec": {
   "display_name": "Python (astrostat-working)",
   "language": "python",
   "name": "astrostat_working-env"
  },
  "language_info": {
   "name": "python",
   "version": "3.11.2"
  }
 },
 "nbformat": 4,
 "nbformat_minor": 5
}
